{
 "cells": [
  {
   "cell_type": "markdown",
   "metadata": {},
   "source": [
    "Praktek BOW\n",
    "=============================\n",
    "\n",
    "***Mohamad Ilham Ramadhani***\n",
    "***A11.2022.14587***"
   ]
  },
  {
   "cell_type": "code",
   "execution_count": 48,
   "metadata": {},
   "outputs": [],
   "source": [
    "import pandas as pd\n",
    "import numpy as np"
   ]
  },
  {
   "cell_type": "code",
   "execution_count": 49,
   "metadata": {},
   "outputs": [],
   "source": [
    "dataset = pd.read_csv('clean_dataset_stem.csv',sep=';')"
   ]
  },
  {
   "cell_type": "code",
   "execution_count": 50,
   "metadata": {},
   "outputs": [
    {
     "data": {
      "text/plain": [
       "(902, 10)"
      ]
     },
     "execution_count": 50,
     "metadata": {},
     "output_type": "execute_result"
    }
   ],
   "source": [
    "dataset.shape"
   ]
  },
  {
   "cell_type": "code",
   "execution_count": 51,
   "metadata": {},
   "outputs": [
    {
     "data": {
      "text/html": [
       "<div>\n",
       "<style scoped>\n",
       "    .dataframe tbody tr th:only-of-type {\n",
       "        vertical-align: middle;\n",
       "    }\n",
       "\n",
       "    .dataframe tbody tr th {\n",
       "        vertical-align: top;\n",
       "    }\n",
       "\n",
       "    .dataframe thead th {\n",
       "        text-align: right;\n",
       "    }\n",
       "</style>\n",
       "<table border=\"1\" class=\"dataframe\">\n",
       "  <thead>\n",
       "    <tr style=\"text-align: right;\">\n",
       "      <th></th>\n",
       "      <th>Unnamed: 0.1</th>\n",
       "      <th>Unnamed: 0</th>\n",
       "      <th>Tweet</th>\n",
       "      <th>Sentimen</th>\n",
       "      <th>step01</th>\n",
       "      <th>tokens</th>\n",
       "      <th>final_tokens</th>\n",
       "      <th>step02</th>\n",
       "      <th>finalText_str</th>\n",
       "      <th>ProcessedText</th>\n",
       "    </tr>\n",
       "  </thead>\n",
       "  <tbody>\n",
       "    <tr>\n",
       "      <th>0</th>\n",
       "      <td>0</td>\n",
       "      <td>0</td>\n",
       "      <td>Cegah mata rantai Covid-19,mari kita dirumah s...</td>\n",
       "      <td>1.0</td>\n",
       "      <td>cegah mata rantai covid   mari kita dirumah sa...</td>\n",
       "      <td>['cegah', 'mata', 'rantai', 'covid', 'mari', '...</td>\n",
       "      <td>['cegah', 'mata', 'rantai', 'covid', 'mari', '...</td>\n",
       "      <td>cegah mata rantai covid mari kita dirumah saja...</td>\n",
       "      <td>cegah mata rantai covid mari kita dirumah saja...</td>\n",
       "      <td>cegah mata rantai covid kita rumah hingga hari...</td>\n",
       "    </tr>\n",
       "    <tr>\n",
       "      <th>1</th>\n",
       "      <td>1</td>\n",
       "      <td>1</td>\n",
       "      <td>aku mohon yaAllah semoga wabah covid-19 menghi...</td>\n",
       "      <td>1.0</td>\n",
       "      <td>aku mohon yaallah semoga wabah covid   menghil...</td>\n",
       "      <td>['aku', 'mohon', 'yaallah', 'semoga', 'wabah',...</td>\n",
       "      <td>['aku', 'mohon', 'yaallah', 'semoga', 'wabah',...</td>\n",
       "      <td>aku mohon yaallah semoga wabah covid menghilan...</td>\n",
       "      <td>aku mohon yaallah semoga wabah covid menghilan...</td>\n",
       "      <td>aku mohon yaallah moga wabah covid hilang rama...</td>\n",
       "    </tr>\n",
       "    <tr>\n",
       "      <th>2</th>\n",
       "      <td>2</td>\n",
       "      <td>2</td>\n",
       "      <td>Pemprov Papua Naikkan Status Jadi Tanggap Daru...</td>\n",
       "      <td>1.0</td>\n",
       "      <td>pemprov papua naikkan status jadi tanggap daru...</td>\n",
       "      <td>['pemprov', 'papua', 'naikkan', 'status', 'jad...</td>\n",
       "      <td>['pemprov', 'papua', 'naikkan', 'status', 'jad...</td>\n",
       "      <td>pemprov papua naikkan status jadi tanggap daru...</td>\n",
       "      <td>pemprov papua naikkan status jadi tanggap daru...</td>\n",
       "      <td>pemprov papua naik status jadi tanggap darurat...</td>\n",
       "    </tr>\n",
       "    <tr>\n",
       "      <th>3</th>\n",
       "      <td>3</td>\n",
       "      <td>3</td>\n",
       "      <td>Covid belum nyampe prigen mbak hmm hoax</td>\n",
       "      <td>0.0</td>\n",
       "      <td>covid belum nyampe prigen mbak hmm hoax</td>\n",
       "      <td>['covid', 'belum', 'nyampe', 'prigen', 'mbak',...</td>\n",
       "      <td>['covid', 'belum', 'nyampe', 'prigen', 'mbak',...</td>\n",
       "      <td>covid belum nyampe prigen mbak hmm hoax</td>\n",
       "      <td>covid belum nyampe prigen mbak hmm hoax</td>\n",
       "      <td>covid nyampe prigen mbak hmm hoax</td>\n",
       "    </tr>\n",
       "    <tr>\n",
       "      <th>4</th>\n",
       "      <td>4</td>\n",
       "      <td>4</td>\n",
       "      <td>Nyuruh orang pintar, lu aja Togog. Itu kerumun...</td>\n",
       "      <td>-1.0</td>\n",
       "      <td>nyuruh orang pintar lu aja togog itu kerumunan...</td>\n",
       "      <td>['nyuruh', 'orang', 'pintar', 'lu', 'aja', 'to...</td>\n",
       "      <td>['nyuruh', 'orang', 'pintar', 'lu', 'aja', 'to...</td>\n",
       "      <td>nyuruh orang pintar lu aja togog itu kerumunan...</td>\n",
       "      <td>nyuruh orang pintar lu aja togog itu kerumunan...</td>\n",
       "      <td>nyuruh orang pintar lu aja togog kerumun orang...</td>\n",
       "    </tr>\n",
       "    <tr>\n",
       "      <th>5</th>\n",
       "      <td>5</td>\n",
       "      <td>5</td>\n",
       "      <td>Pikir2 balik byk mnde plk nk setelkn lepas covid.</td>\n",
       "      <td>0.0</td>\n",
       "      <td>pikir balik byk mnde plk nk setelkn lepas covid</td>\n",
       "      <td>['pikir', 'balik', 'byk', 'mnde', 'plk', 'nk',...</td>\n",
       "      <td>['pikir', 'balik', 'byk', 'mnde', 'plk', 'nk',...</td>\n",
       "      <td>pikir balik byk mnde plk nk setelkn lepas covid</td>\n",
       "      <td>pikir balik byk mnde plk nk setelkn lepas covid</td>\n",
       "      <td>pikir balik byk mnde plk nk setelkn lepas covid</td>\n",
       "    </tr>\n",
       "    <tr>\n",
       "      <th>6</th>\n",
       "      <td>6</td>\n",
       "      <td>6</td>\n",
       "      <td>Selamat pagi, hari jum'at. Jum'at keempat di k...</td>\n",
       "      <td>1.0</td>\n",
       "      <td>selamat pagi hari jumat jumat keempat di kala ...</td>\n",
       "      <td>['selamat', 'pagi', 'hari', 'jumat', 'jumat', ...</td>\n",
       "      <td>['selamat', 'pagi', 'hari', 'jumat', 'jumat', ...</td>\n",
       "      <td>selamat pagi hari jumat jumat keempat di kala ...</td>\n",
       "      <td>selamat pagi hari jumat jumat keempat di kala ...</td>\n",
       "      <td>selamat pagi hari jumat jumat empat kala pande...</td>\n",
       "    </tr>\n",
       "    <tr>\n",
       "      <th>7</th>\n",
       "      <td>7</td>\n",
       "      <td>7</td>\n",
       "      <td>Hikmah di balik musibah covid-19, smg para pej...</td>\n",
       "      <td>1.0</td>\n",
       "      <td>hikmah di balik musibah covid   smg para pejab...</td>\n",
       "      <td>['hikmah', 'di', 'balik', 'musibah', 'covid', ...</td>\n",
       "      <td>['hikmah', 'di', 'balik', 'musibah', 'covid', ...</td>\n",
       "      <td>hikmah di balik musibah covid smg para pejabat...</td>\n",
       "      <td>hikmah di balik musibah covid smg para pejabat...</td>\n",
       "      <td>hikmah balik musibah covid smg jabat perintah ...</td>\n",
       "    </tr>\n",
       "    <tr>\n",
       "      <th>8</th>\n",
       "      <td>8</td>\n",
       "      <td>8</td>\n",
       "      <td>Cegah covid-19 beserta jajaran Polsek Kuranji ...</td>\n",
       "      <td>1.0</td>\n",
       "      <td>cegah covid   beserta jajaran polsek kuranji m...</td>\n",
       "      <td>['cegah', 'covid', 'beserta', 'jajaran', 'pols...</td>\n",
       "      <td>['cegah', 'covid', 'beserta', 'jajaran', 'pols...</td>\n",
       "      <td>cegah covid beserta jajaran polsek kuranji mel...</td>\n",
       "      <td>cegah covid beserta jajaran polsek kuranji mel...</td>\n",
       "      <td>cegah covid serta jajar polsek ranji laku aksi...</td>\n",
       "    </tr>\n",
       "    <tr>\n",
       "      <th>9</th>\n",
       "      <td>9</td>\n",
       "      <td>9</td>\n",
       "      <td>Ya Allah kami memohon pada mu perkenankanlah d...</td>\n",
       "      <td>1.0</td>\n",
       "      <td>ya allah kami memohon pada mu perkenankanlah d...</td>\n",
       "      <td>['ya', 'allah', 'kami', 'memohon', 'pada', 'mu...</td>\n",
       "      <td>['ya', 'allah', 'kami', 'memohon', 'pada', 'mu...</td>\n",
       "      <td>ya allah kami memohon pada mu perkenankanlah d...</td>\n",
       "      <td>ya allah kami memohon pada mu perkenankanlah d...</td>\n",
       "      <td>allah mohon mu kenan doa doa rana sungguh engk...</td>\n",
       "    </tr>\n",
       "  </tbody>\n",
       "</table>\n",
       "</div>"
      ],
      "text/plain": [
       "   Unnamed: 0.1  Unnamed: 0  \\\n",
       "0             0           0   \n",
       "1             1           1   \n",
       "2             2           2   \n",
       "3             3           3   \n",
       "4             4           4   \n",
       "5             5           5   \n",
       "6             6           6   \n",
       "7             7           7   \n",
       "8             8           8   \n",
       "9             9           9   \n",
       "\n",
       "                                               Tweet  Sentimen  \\\n",
       "0  Cegah mata rantai Covid-19,mari kita dirumah s...       1.0   \n",
       "1  aku mohon yaAllah semoga wabah covid-19 menghi...       1.0   \n",
       "2  Pemprov Papua Naikkan Status Jadi Tanggap Daru...       1.0   \n",
       "3            Covid belum nyampe prigen mbak hmm hoax       0.0   \n",
       "4  Nyuruh orang pintar, lu aja Togog. Itu kerumun...      -1.0   \n",
       "5  Pikir2 balik byk mnde plk nk setelkn lepas covid.       0.0   \n",
       "6  Selamat pagi, hari jum'at. Jum'at keempat di k...       1.0   \n",
       "7  Hikmah di balik musibah covid-19, smg para pej...       1.0   \n",
       "8  Cegah covid-19 beserta jajaran Polsek Kuranji ...       1.0   \n",
       "9  Ya Allah kami memohon pada mu perkenankanlah d...       1.0   \n",
       "\n",
       "                                              step01  \\\n",
       "0  cegah mata rantai covid   mari kita dirumah sa...   \n",
       "1  aku mohon yaallah semoga wabah covid   menghil...   \n",
       "2  pemprov papua naikkan status jadi tanggap daru...   \n",
       "3            covid belum nyampe prigen mbak hmm hoax   \n",
       "4  nyuruh orang pintar lu aja togog itu kerumunan...   \n",
       "5    pikir balik byk mnde plk nk setelkn lepas covid   \n",
       "6  selamat pagi hari jumat jumat keempat di kala ...   \n",
       "7  hikmah di balik musibah covid   smg para pejab...   \n",
       "8  cegah covid   beserta jajaran polsek kuranji m...   \n",
       "9  ya allah kami memohon pada mu perkenankanlah d...   \n",
       "\n",
       "                                              tokens  \\\n",
       "0  ['cegah', 'mata', 'rantai', 'covid', 'mari', '...   \n",
       "1  ['aku', 'mohon', 'yaallah', 'semoga', 'wabah',...   \n",
       "2  ['pemprov', 'papua', 'naikkan', 'status', 'jad...   \n",
       "3  ['covid', 'belum', 'nyampe', 'prigen', 'mbak',...   \n",
       "4  ['nyuruh', 'orang', 'pintar', 'lu', 'aja', 'to...   \n",
       "5  ['pikir', 'balik', 'byk', 'mnde', 'plk', 'nk',...   \n",
       "6  ['selamat', 'pagi', 'hari', 'jumat', 'jumat', ...   \n",
       "7  ['hikmah', 'di', 'balik', 'musibah', 'covid', ...   \n",
       "8  ['cegah', 'covid', 'beserta', 'jajaran', 'pols...   \n",
       "9  ['ya', 'allah', 'kami', 'memohon', 'pada', 'mu...   \n",
       "\n",
       "                                        final_tokens  \\\n",
       "0  ['cegah', 'mata', 'rantai', 'covid', 'mari', '...   \n",
       "1  ['aku', 'mohon', 'yaallah', 'semoga', 'wabah',...   \n",
       "2  ['pemprov', 'papua', 'naikkan', 'status', 'jad...   \n",
       "3  ['covid', 'belum', 'nyampe', 'prigen', 'mbak',...   \n",
       "4  ['nyuruh', 'orang', 'pintar', 'lu', 'aja', 'to...   \n",
       "5  ['pikir', 'balik', 'byk', 'mnde', 'plk', 'nk',...   \n",
       "6  ['selamat', 'pagi', 'hari', 'jumat', 'jumat', ...   \n",
       "7  ['hikmah', 'di', 'balik', 'musibah', 'covid', ...   \n",
       "8  ['cegah', 'covid', 'beserta', 'jajaran', 'pols...   \n",
       "9  ['ya', 'allah', 'kami', 'memohon', 'pada', 'mu...   \n",
       "\n",
       "                                              step02  \\\n",
       "0  cegah mata rantai covid mari kita dirumah saja...   \n",
       "1  aku mohon yaallah semoga wabah covid menghilan...   \n",
       "2  pemprov papua naikkan status jadi tanggap daru...   \n",
       "3            covid belum nyampe prigen mbak hmm hoax   \n",
       "4  nyuruh orang pintar lu aja togog itu kerumunan...   \n",
       "5    pikir balik byk mnde plk nk setelkn lepas covid   \n",
       "6  selamat pagi hari jumat jumat keempat di kala ...   \n",
       "7  hikmah di balik musibah covid smg para pejabat...   \n",
       "8  cegah covid beserta jajaran polsek kuranji mel...   \n",
       "9  ya allah kami memohon pada mu perkenankanlah d...   \n",
       "\n",
       "                                       finalText_str  \\\n",
       "0  cegah mata rantai covid mari kita dirumah saja...   \n",
       "1  aku mohon yaallah semoga wabah covid menghilan...   \n",
       "2  pemprov papua naikkan status jadi tanggap daru...   \n",
       "3            covid belum nyampe prigen mbak hmm hoax   \n",
       "4  nyuruh orang pintar lu aja togog itu kerumunan...   \n",
       "5    pikir balik byk mnde plk nk setelkn lepas covid   \n",
       "6  selamat pagi hari jumat jumat keempat di kala ...   \n",
       "7  hikmah di balik musibah covid smg para pejabat...   \n",
       "8  cegah covid beserta jajaran polsek kuranji mel...   \n",
       "9  ya allah kami memohon pada mu perkenankanlah d...   \n",
       "\n",
       "                                       ProcessedText  \n",
       "0  cegah mata rantai covid kita rumah hingga hari...  \n",
       "1  aku mohon yaallah moga wabah covid hilang rama...  \n",
       "2  pemprov papua naik status jadi tanggap darurat...  \n",
       "3                  covid nyampe prigen mbak hmm hoax  \n",
       "4  nyuruh orang pintar lu aja togog kerumun orang...  \n",
       "5    pikir balik byk mnde plk nk setelkn lepas covid  \n",
       "6  selamat pagi hari jumat jumat empat kala pande...  \n",
       "7  hikmah balik musibah covid smg jabat perintah ...  \n",
       "8  cegah covid serta jajar polsek ranji laku aksi...  \n",
       "9  allah mohon mu kenan doa doa rana sungguh engk...  "
      ]
     },
     "execution_count": 51,
     "metadata": {},
     "output_type": "execute_result"
    }
   ],
   "source": [
    "dataset.head(10)"
   ]
  },
  {
   "cell_type": "code",
   "execution_count": 52,
   "metadata": {},
   "outputs": [],
   "source": [
    "dataset_feature = dataset['ProcessedText'].astype(str)"
   ]
  },
  {
   "cell_type": "code",
   "execution_count": 53,
   "metadata": {},
   "outputs": [],
   "source": [
    "dataset_label = dataset['Sentimen']"
   ]
  },
  {
   "cell_type": "code",
   "execution_count": 54,
   "metadata": {},
   "outputs": [
    {
     "data": {
      "text/plain": [
       "0      cegah mata rantai covid kita rumah hingga hari...\n",
       "1      aku mohon yaallah moga wabah covid hilang rama...\n",
       "2      pemprov papua naik status jadi tanggap darurat...\n",
       "3                      covid nyampe prigen mbak hmm hoax\n",
       "4      nyuruh orang pintar lu aja togog kerumun orang...\n",
       "                             ...                        \n",
       "897    seluruh negara dunia alami masa sulit covid ra...\n",
       "898    covid skripsi disaster selesai mau bgt bljr ma...\n",
       "899    malam projek benda bincang malam fb satu belia...\n",
       "900                          pontang panting koyak covid\n",
       "901    masalah sekarang isu jangkit covid alaaaa bosa...\n",
       "Name: ProcessedText, Length: 902, dtype: object"
      ]
     },
     "execution_count": 54,
     "metadata": {},
     "output_type": "execute_result"
    }
   ],
   "source": [
    "dataset_feature"
   ]
  },
  {
   "cell_type": "code",
   "execution_count": 55,
   "metadata": {},
   "outputs": [
    {
     "data": {
      "text/plain": [
       "0      1.0\n",
       "1      1.0\n",
       "2      1.0\n",
       "3      0.0\n",
       "4     -1.0\n",
       "      ... \n",
       "897    1.0\n",
       "898    1.0\n",
       "899    0.0\n",
       "900   -1.0\n",
       "901   -1.0\n",
       "Name: Sentimen, Length: 902, dtype: float64"
      ]
     },
     "execution_count": 55,
     "metadata": {},
     "output_type": "execute_result"
    }
   ],
   "source": [
    "dataset_label"
   ]
  },
  {
   "cell_type": "markdown",
   "metadata": {},
   "source": [
    "# cek distribusi label"
   ]
  },
  {
   "cell_type": "code",
   "execution_count": 56,
   "metadata": {},
   "outputs": [],
   "source": [
    "import matplotlib.pyplot as plt\n",
    "import seaborn as sns\n",
    "%matplotlib inline"
   ]
  },
  {
   "cell_type": "code",
   "execution_count": 57,
   "metadata": {},
   "outputs": [
    {
     "data": {
      "text/plain": [
       "<Figure size 1700x1200 with 0 Axes>"
      ]
     },
     "metadata": {},
     "output_type": "display_data"
    },
    {
     "data": {
      "image/png": "[encoded data removed]",
      "text/plain": [
       "<Figure size 500x500 with 1 Axes>"
      ]
     },
     "metadata": {},
     "output_type": "display_data"
    }
   ],
   "source": [
    "# Visualizing the target variable\n",
    "plt.figure(figsize=(17,12))\n",
    "sns.displot(dataset_label, label=f'target, skew: {dataset_label.skew():.2f}')\n",
    "plt.legend(loc='best')\n",
    "plt.show()"
   ]
  },
  {
   "cell_type": "code",
   "execution_count": 58,
   "metadata": {},
   "outputs": [
    {
     "data": {
      "text/plain": [
       "Sentimen\n",
       " 1.0    441\n",
       " 0.0    266\n",
       "-1.0    195\n",
       "Name: count, dtype: int64"
      ]
     },
     "execution_count": 58,
     "metadata": {},
     "output_type": "execute_result"
    }
   ],
   "source": [
    "dataset_label.value_counts()"
   ]
  },
  {
   "cell_type": "markdown",
   "metadata": {},
   "source": [
    "# BOW\n",
    "***Bag Of Words***"
   ]
  },
  {
   "cell_type": "code",
   "execution_count": 59,
   "metadata": {},
   "outputs": [],
   "source": [
    "from sklearn.feature_extraction.text import CountVectorizer"
   ]
  },
  {
   "cell_type": "code",
   "execution_count": 60,
   "metadata": {},
   "outputs": [],
   "source": [
    "vectorizer = CountVectorizer()"
   ]
  },
  {
   "cell_type": "code",
   "execution_count": 61,
   "metadata": {},
   "outputs": [],
   "source": [
    "X = vectorizer.fit_transform(dataset_feature)"
   ]
  },
  {
   "cell_type": "code",
   "execution_count": 62,
   "metadata": {},
   "outputs": [],
   "source": [
    "feature_names = dataset.columns.tolist()"
   ]
  },
  {
   "cell_type": "code",
   "execution_count": 63,
   "metadata": {},
   "outputs": [
    {
     "name": "stdout",
     "output_type": "stream",
     "text": [
      "['Unnamed: 0.1', 'Unnamed: 0', 'Tweet', 'Sentimen', 'step01', 'tokens', 'final_tokens', 'step02', 'finalText_str', 'ProcessedText']\n"
     ]
    }
   ],
   "source": [
    "print(feature_names)"
   ]
  },
  {
   "cell_type": "code",
   "execution_count": 64,
   "metadata": {},
   "outputs": [
    {
     "name": "stdout",
     "output_type": "stream",
     "text": [
      "[[0 0 0 ... 0 0 0]\n",
      " [0 0 0 ... 0 0 0]\n",
      " [0 0 0 ... 0 0 0]\n",
      " ...\n",
      " [0 0 0 ... 0 0 0]\n",
      " [0 0 0 ... 0 0 0]\n",
      " [0 0 0 ... 0 0 0]]\n"
     ]
    }
   ],
   "source": [
    "print(X.toarray())"
   ]
  },
  {
   "cell_type": "code",
   "execution_count": 65,
   "metadata": {},
   "outputs": [],
   "source": [
    "vectorizer2 = CountVectorizer(analyzer='word', ngram_range=(2, 2))"
   ]
  },
  {
   "cell_type": "markdown",
   "metadata": {},
   "source": [
    "### Simulasi Corpus"
   ]
  },
  {
   "cell_type": "code",
   "execution_count": 66,
   "metadata": {},
   "outputs": [],
   "source": [
    "corpus = [\n",
    "    'This is Machine Learning.',\n",
    "    'Latihan BOW pertama.',\n",
    "    'Universitas Dian Nuswantoro',\n",
    "    'Mohamad Ilham Ramadhani',\n",
    "]"
   ]
  },
  {
   "cell_type": "code",
   "execution_count": 67,
   "metadata": {},
   "outputs": [],
   "source": [
    "vectorizer = CountVectorizer()"
   ]
  },
  {
   "cell_type": "code",
   "execution_count": 68,
   "metadata": {},
   "outputs": [],
   "source": [
    "Z = vectorizer.fit_transform(corpus)"
   ]
  },
  {
   "cell_type": "code",
   "execution_count": 69,
   "metadata": {},
   "outputs": [
    {
     "data": {
      "text/plain": [
       "array(['bow', 'dian', 'ilham', 'is', 'latihan', 'learning', 'machine',\n",
       "       'mohamad', 'nuswantoro', 'pertama', 'ramadhani', 'this',\n",
       "       'universitas'], dtype=object)"
      ]
     },
     "execution_count": 69,
     "metadata": {},
     "output_type": "execute_result"
    }
   ],
   "source": [
    "vectorizer.get_feature_names_out()"
   ]
  },
  {
   "cell_type": "code",
   "execution_count": 70,
   "metadata": {},
   "outputs": [
    {
     "name": "stdout",
     "output_type": "stream",
     "text": [
      "[[0 0 0 1 0 1 1 0 0 0 0 1 0]\n",
      " [1 0 0 0 1 0 0 0 0 1 0 0 0]\n",
      " [0 1 0 0 0 0 0 0 1 0 0 0 1]\n",
      " [0 0 1 0 0 0 0 1 0 0 1 0 0]]\n"
     ]
    }
   ],
   "source": [
    "print(Z.toarray())"
   ]
  },
  {
   "cell_type": "code",
   "execution_count": 71,
   "metadata": {},
   "outputs": [],
   "source": [
    "vectorizer2 = CountVectorizer(analyzer='word', ngram_range=(2, 2))"
   ]
  },
  {
   "cell_type": "code",
   "execution_count": 72,
   "metadata": {},
   "outputs": [],
   "source": [
    "Z2 = vectorizer2.fit_transform(corpus)"
   ]
  },
  {
   "cell_type": "code",
   "execution_count": 73,
   "metadata": {},
   "outputs": [
    {
     "data": {
      "text/plain": [
       "array(['bow pertama', 'dian nuswantoro', 'ilham ramadhani', 'is machine',\n",
       "       'latihan bow', 'machine learning', 'mohamad ilham', 'this is',\n",
       "       'universitas dian'], dtype=object)"
      ]
     },
     "execution_count": 73,
     "metadata": {},
     "output_type": "execute_result"
    }
   ],
   "source": [
    "vectorizer2.get_feature_names_out()"
   ]
  },
  {
   "cell_type": "code",
   "execution_count": 74,
   "metadata": {},
   "outputs": [
    {
     "name": "stdout",
     "output_type": "stream",
     "text": [
      "[[0 0 0 1 0 1 0 1 0]\n",
      " [1 0 0 0 1 0 0 0 0]\n",
      " [0 1 0 0 0 0 0 0 1]\n",
      " [0 0 1 0 0 0 1 0 0]]\n"
     ]
    }
   ],
   "source": [
    "print(Z2.toarray())"
   ]
  }
 ],
 "metadata": {
  "kernelspec": {
   "display_name": "Python 3 (ipykernel)",
   "language": "python",
   "name": "python3"
  },
  "language_info": {
   "codemirror_mode": {
    "name": "ipython",
    "version": 3
   },
   "file_extension": ".py",
   "mimetype": "text/x-python",
   "name": "python",
   "nbconvert_exporter": "python",
   "pygments_lexer": "ipython3",
   "version": "3.12.3"
  }
 },
 "nbformat": 4,
 "nbformat_minor": 4
}
